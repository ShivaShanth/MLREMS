{
 "cells": [
  {
   "cell_type": "code",
   "execution_count": 6,
   "id": "e8933d56",
   "metadata": {},
   "outputs": [
    {
     "name": "stdout",
     "output_type": "stream",
     "text": [
      "R-squared value: 0.94\n",
      "[1.51774071]\n"
     ]
    }
   ],
   "source": [
    "import pandas as pd\n",
    "import numpy as np\n",
    "import matplotlib.pyplot as plt\n",
    "from sklearn.linear_model import LinearRegression\n",
    "data = pd.read_csv(\"rems.csv\")\n",
    "# Split the dataset into features and target variables\n",
    "X = data.iloc[:, :-1].values\n",
    "y = data.iloc[:, -1].values\n",
    "# Split the dataset into training and testing sets\n",
    "from sklearn.model_selection import train_test_split\n",
    "X_train, X_test, y_train, y_test = train_test_split(X, y, test_size=0.2, random_state=0)\n",
    "# Fit the multiple regression model\n",
    "regressor = LinearRegression()\n",
    "regressor.fit(X_train, y_train)\n",
    "# Predict the energy consumption using the testing set\n",
    "y_pred = regressor.predict(X_test)\n",
    "# Evaluate the model\n",
    "from sklearn.metrics import r2_score\n",
    "r2 = r2_score(y_test, y_pred)\n",
    "print(\"R-squared value: {:.2f}\".format(r2))\n",
    "Input=[[0,0,1,1]]\n",
    "Output=regressor.predict(Input)\n",
    "print(Output)\n",
    "if Output==1:\n",
    " print(\"Maintain the Same state\")\n",
    "elif Output==2:\n",
    " print(\"Redirect to Battery\")\n",
    "elif Output==3:\n",
    " print(\"Redirect to Grid\")\n",
    "elif Output==4:\n",
    " print(\"Message to consumer(Warning!!)\")\n"
   ]
  },
  {
   "cell_type": "code",
   "execution_count": null,
   "id": "95a96165",
   "metadata": {},
   "outputs": [],
   "source": []
  }
 ],
 "metadata": {
  "kernelspec": {
   "display_name": "Python 3 (ipykernel)",
   "language": "python",
   "name": "python3"
  },
  "language_info": {
   "codemirror_mode": {
    "name": "ipython",
    "version": 3
   },
   "file_extension": ".py",
   "mimetype": "text/x-python",
   "name": "python",
   "nbconvert_exporter": "python",
   "pygments_lexer": "ipython3",
   "version": "3.11.5"
  }
 },
 "nbformat": 4,
 "nbformat_minor": 5
}
